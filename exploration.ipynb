{
 "cells": [
  {
   "cell_type": "markdown",
   "metadata": {},
   "source": [
    "# Load Dataset"
   ]
  },
  {
   "cell_type": "code",
   "execution_count": 2,
   "metadata": {},
   "outputs": [],
   "source": [
    "# imports\n",
    "import pandas as pd\n",
    "import numpy as np\n",
    "import matplotlib.pyplot as plt\n",
    "import seaborn as sns\n",
    "from sklearn import preprocessing\n",
    "from sklearn.model_selection import train_test_split\n"
   ]
  },
  {
   "cell_type": "code",
   "execution_count": 3,
   "metadata": {},
   "outputs": [],
   "source": [
    "# Load datasets\n",
    "botnet_df_v2 = pd.read_csv('BoTNeTIoT-L01-v2.csv')\n",
    "botnet_df_no_duplicates = pd.read_csv('BotNeTIoT-L01_label_NoDuplicates.csv')"
   ]
  },
  {
   "cell_type": "code",
   "execution_count": 4,
   "metadata": {},
   "outputs": [
    {
     "name": "stdout",
     "output_type": "stream",
     "text": [
      "botnet_df_v2 features:\n",
      "Index(['MI_dir_L0.1_weight', 'MI_dir_L0.1_mean', 'MI_dir_L0.1_variance',\n",
      "       'H_L0.1_weight', 'H_L0.1_mean', 'H_L0.1_variance', 'HH_L0.1_weight',\n",
      "       'HH_L0.1_mean', 'HH_L0.1_std', 'HH_L0.1_magnitude', 'HH_L0.1_radius',\n",
      "       'HH_L0.1_covariance', 'HH_L0.1_pcc', 'HH_jit_L0.1_weight',\n",
      "       'HH_jit_L0.1_mean', 'HH_jit_L0.1_variance', 'HpHp_L0.1_weight',\n",
      "       'HpHp_L0.1_mean', 'HpHp_L0.1_std', 'HpHp_L0.1_magnitude',\n",
      "       'HpHp_L0.1_radius', 'HpHp_L0.1_covariance', 'HpHp_L0.1_pcc',\n",
      "       'Device_Name', 'Attack', 'Attack_subType', 'label'],\n",
      "      dtype='object')\n",
      "\n",
      "\n",
      "**************************************************\n"
     ]
    }
   ],
   "source": [
    "# Sample data to only an amount of 1000 rows\n",
    "sample_botnet_df_v2 = botnet_df_v2.sample(n=1000, random_state=1)\n",
    "sample_botnet_df_no_duplicates = botnet_df_no_duplicates.sample(n=1000, random_state=1)\n",
    "\n",
    "# Save the sampled data\n",
    "sample_botnet_df_v2.to_csv('sample_botnet_df_v2.csv', index=False)\n",
    "sample_botnet_df_no_duplicates.to_csv('sample_botnet_df_no_duplicates.csv', index=False)\n",
    "\n",
    "# botnet_df_v2 features\n",
    "print('botnet_df_v2 features:')\n",
    "print(sample_botnet_df_v2.columns)\n",
    "print('\\n')\n",
    "print('*'*50)"
   ]
  },
  {
   "cell_type": "code",
   "execution_count": 15,
   "metadata": {},
   "outputs": [
    {
     "name": "stdout",
     "output_type": "stream",
     "text": [
      "---------- HEAD ----------\n",
      "   MI_dir_L0.1_weight  MI_dir_L0.1_mean  MI_dir_L0.1_variance  H_L0.1_weight  \\\n",
      "0            1.000000         98.000000          0.000000e+00       1.000000   \n",
      "1            1.931640         98.000000          1.818989e-12       1.931640   \n",
      "2            2.904273         86.981750          2.311822e+02       2.904273   \n",
      "3            3.902546         83.655268          2.040614e+02       3.902546   \n",
      "4            4.902545         81.685828          1.775746e+02       4.902545   \n",
      "\n",
      "   H_L0.1_mean  H_L0.1_variance  HH_L0.1_weight  HH_L0.1_mean   HH_L0.1_std  \\\n",
      "0    98.000000     0.000000e+00         1.00000          98.0  0.000000e+00   \n",
      "1    98.000000     1.818989e-12         1.93164          98.0  1.348699e-06   \n",
      "2    86.981750     2.311822e+02         1.00000          66.0  0.000000e+00   \n",
      "3    83.655268     2.040614e+02         1.00000          74.0  0.000000e+00   \n",
      "4    81.685828     1.775746e+02         2.00000          74.0  9.536743e-07   \n",
      "\n",
      "   HH_L0.1_magnitude  ...  HpHp_L0.1_mean  HpHp_L0.1_std  HpHp_L0.1_magnitude  \\\n",
      "0          98.000000  ...            98.0       0.000000            98.000000   \n",
      "1         138.592929  ...            98.0       0.000001           138.592929   \n",
      "2         114.856432  ...            66.0       0.000000           114.856432   \n",
      "3          74.000000  ...            74.0       0.000000            74.000000   \n",
      "4          74.000000  ...            74.0       0.000000            74.000000   \n",
      "\n",
      "   HpHp_L0.1_radius  HpHp_L0.1_covariance  HpHp_L0.1_pcc       Device_Name  \\\n",
      "0      0.000000e+00                   0.0            0.0  Danmini_Doorbell   \n",
      "1      1.818989e-12                   0.0            0.0  Danmini_Doorbell   \n",
      "2      0.000000e+00                   0.0            0.0  Danmini_Doorbell   \n",
      "3      0.000000e+00                   0.0            0.0  Danmini_Doorbell   \n",
      "4      0.000000e+00                   0.0            0.0  Danmini_Doorbell   \n",
      "\n",
      "   Attack  Attack_subType  label  \n",
      "0  gafgyt           combo      0  \n",
      "1  gafgyt           combo      0  \n",
      "2  gafgyt           combo      0  \n",
      "3  gafgyt           combo      0  \n",
      "4  gafgyt           combo      0  \n",
      "\n",
      "[5 rows x 27 columns]\n",
      "\n",
      "\n"
     ]
    }
   ],
   "source": [
    "print('-'*10, 'HEAD', '-'*10)\n",
    "print(botnet_df_v2.head())\n",
    "print('\\n')"
   ]
  },
  {
   "cell_type": "code",
   "execution_count": 16,
   "metadata": {},
   "outputs": [
    {
     "name": "stdout",
     "output_type": "stream",
     "text": [
      "---------- DESCRIBE ----------\n",
      "       MI_dir_L0.1_weight  MI_dir_L0.1_mean  MI_dir_L0.1_variance  \\\n",
      "count        7.062606e+06      7.062606e+06          7.062606e+06   \n",
      "mean         3.400682e+03      1.794441e+02          1.931062e+04   \n",
      "std          2.897012e+03      1.537109e+02          2.636844e+04   \n",
      "min          1.000000e+00      6.000000e+01          0.000000e+00   \n",
      "25%          1.000000e+00      6.000000e+01          0.000000e+00   \n",
      "50%          3.644882e+03      7.412707e+01          9.807711e+01   \n",
      "75%          6.354692e+03      3.486463e+02          4.887076e+04   \n",
      "max          8.946997e+03      1.401994e+03          4.520011e+05   \n",
      "\n",
      "       H_L0.1_weight   H_L0.1_mean  H_L0.1_variance  HH_L0.1_weight  \\\n",
      "count   7.062606e+06  7.062606e+06     7.062606e+06    7.062606e+06   \n",
      "mean    3.400682e+03  1.794441e+02     1.931066e+04    1.892359e+03   \n",
      "std     2.897012e+03  1.537107e+02     2.636842e+04    2.523083e+03   \n",
      "min     1.000000e+00  6.000000e+01     0.000000e+00    1.000000e+00   \n",
      "25%     1.000000e+00  6.000000e+01     0.000000e+00    1.000000e+00   \n",
      "50%     3.644882e+03  7.412707e+01     9.810144e+01    1.071281e+00   \n",
      "75%     6.354692e+03  3.486463e+02     4.887076e+04    4.201684e+03   \n",
      "max     8.946997e+03  1.401994e+03     4.520011e+05    7.944987e+03   \n",
      "\n",
      "       HH_L0.1_mean   HH_L0.1_std  HH_L0.1_magnitude  ...  HH_jit_L0.1_mean  \\\n",
      "count  7.062606e+06  7.062606e+06       7.062606e+06  ...      7.062606e+06   \n",
      "mean   1.792406e+02  4.415659e+00       1.865562e+02  ...      7.497349e+08   \n",
      "std    2.059018e+02  2.243629e+01       2.067658e+02  ...      7.459028e+08   \n",
      "min    6.000000e+01  0.000000e+00       6.000000e+01  ...      2.484468e-03   \n",
      "25%    6.000000e+01  0.000000e+00       6.000000e+01  ...      4.041758e+01   \n",
      "50%    7.020764e+01  0.000000e+00       7.399665e+01  ...      6.745729e+08   \n",
      "75%    9.314709e+01  3.293467e+00       1.344109e+02  ...      1.505914e+09   \n",
      "max    1.470000e+03  6.784580e+02       1.470000e+03  ...      1.534253e+09   \n",
      "\n",
      "       HH_jit_L0.1_variance  HpHp_L0.1_weight  HpHp_L0.1_mean  HpHp_L0.1_std  \\\n",
      "count          7.062606e+06      7.062606e+06    7.062606e+06   7.062606e+06   \n",
      "mean           1.114786e+16      1.369083e+02    1.792334e+02   1.912623e+00   \n",
      "std            7.282259e+16      6.510637e+02    2.061473e+02   2.013019e+01   \n",
      "min            0.000000e+00      1.000000e+00    6.000000e+01   0.000000e+00   \n",
      "25%            0.000000e+00      1.000000e+00    6.000000e+01   0.000000e+00   \n",
      "50%            1.501619e-03      1.000000e+00    6.600001e+01   0.000000e+00   \n",
      "75%            6.062294e+10      1.000000e+00    9.800000e+01   0.000000e+00   \n",
      "max            5.880000e+17      4.594455e+03    1.470000e+03   6.863705e+02   \n",
      "\n",
      "       HpHp_L0.1_magnitude  HpHp_L0.1_radius  HpHp_L0.1_covariance  \\\n",
      "count         7.062606e+06      7.062606e+06          7.062606e+06   \n",
      "mean          1.842961e+02      9.254144e+02          9.101316e+01   \n",
      "std           2.077680e+02      1.463365e+04          1.976009e+03   \n",
      "min           6.000000e+01      0.000000e+00         -1.312975e+05   \n",
      "25%           6.000000e+01      0.000000e+00          0.000000e+00   \n",
      "50%           7.400000e+01      0.000000e+00          0.000000e+00   \n",
      "75%           1.370625e+02      0.000000e+00          0.000000e+00   \n",
      "max           1.470000e+03      5.014297e+05          1.406094e+05   \n",
      "\n",
      "       HpHp_L0.1_pcc         label  \n",
      "count   7.062606e+06  7.062606e+06  \n",
      "mean    1.845142e-03  7.871485e-02  \n",
      "std     5.208508e-02  2.692932e-01  \n",
      "min    -1.586467e+00  0.000000e+00  \n",
      "25%     0.000000e+00  0.000000e+00  \n",
      "50%     0.000000e+00  0.000000e+00  \n",
      "75%     0.000000e+00  0.000000e+00  \n",
      "max     2.760701e+00  1.000000e+00  \n",
      "\n",
      "[8 rows x 24 columns]\n",
      "\n",
      "\n"
     ]
    }
   ],
   "source": [
    "print('-'*10, 'DESCRIBE', '-'*10)\n",
    "print(botnet_df_v2.describe())\n",
    "print('\\n')"
   ]
  },
  {
   "cell_type": "code",
   "execution_count": 17,
   "metadata": {},
   "outputs": [
    {
     "name": "stdout",
     "output_type": "stream",
     "text": [
      "---------- INFO ----------\n",
      "<class 'pandas.core.frame.DataFrame'>\n",
      "RangeIndex: 7062606 entries, 0 to 7062605\n",
      "Data columns (total 27 columns):\n",
      " #   Column                Dtype  \n",
      "---  ------                -----  \n",
      " 0   MI_dir_L0.1_weight    float64\n",
      " 1   MI_dir_L0.1_mean      float64\n",
      " 2   MI_dir_L0.1_variance  float64\n",
      " 3   H_L0.1_weight         float64\n",
      " 4   H_L0.1_mean           float64\n",
      " 5   H_L0.1_variance       float64\n",
      " 6   HH_L0.1_weight        float64\n",
      " 7   HH_L0.1_mean          float64\n",
      " 8   HH_L0.1_std           float64\n",
      " 9   HH_L0.1_magnitude     float64\n",
      " 10  HH_L0.1_radius        float64\n",
      " 11  HH_L0.1_covariance    float64\n",
      " 12  HH_L0.1_pcc           float64\n",
      " 13  HH_jit_L0.1_weight    float64\n",
      " 14  HH_jit_L0.1_mean      float64\n",
      " 15  HH_jit_L0.1_variance  float64\n",
      " 16  HpHp_L0.1_weight      float64\n",
      " 17  HpHp_L0.1_mean        float64\n",
      " 18  HpHp_L0.1_std         float64\n",
      " 19  HpHp_L0.1_magnitude   float64\n",
      " 20  HpHp_L0.1_radius      float64\n",
      " 21  HpHp_L0.1_covariance  float64\n",
      " 22  HpHp_L0.1_pcc         float64\n",
      " 23  Device_Name           object \n",
      " 24  Attack                object \n",
      " 25  Attack_subType        object \n",
      " 26  label                 int64  \n",
      "dtypes: float64(23), int64(1), object(3)\n",
      "memory usage: 1.4+ GB\n",
      "None\n",
      "\n",
      "\n"
     ]
    }
   ],
   "source": [
    "print('-'*10, 'INFO', '-'*10)\n",
    "print(botnet_df_v2.info())\n",
    "print('\\n')"
   ]
  },
  {
   "cell_type": "markdown",
   "metadata": {},
   "source": [
    "## Check for null values and duplicates."
   ]
  },
  {
   "cell_type": "code",
   "execution_count": 18,
   "metadata": {},
   "outputs": [
    {
     "name": "stdout",
     "output_type": "stream",
     "text": [
      "---------- MISSING VALUES ----------\n",
      "MI_dir_L0.1_weight      0\n",
      "MI_dir_L0.1_mean        0\n",
      "MI_dir_L0.1_variance    0\n",
      "H_L0.1_weight           0\n",
      "H_L0.1_mean             0\n",
      "H_L0.1_variance         0\n",
      "HH_L0.1_weight          0\n",
      "HH_L0.1_mean            0\n",
      "HH_L0.1_std             0\n",
      "HH_L0.1_magnitude       0\n",
      "HH_L0.1_radius          0\n",
      "HH_L0.1_covariance      0\n",
      "HH_L0.1_pcc             0\n",
      "HH_jit_L0.1_weight      0\n",
      "HH_jit_L0.1_mean        0\n",
      "HH_jit_L0.1_variance    0\n",
      "HpHp_L0.1_weight        0\n",
      "HpHp_L0.1_mean          0\n",
      "HpHp_L0.1_std           0\n",
      "HpHp_L0.1_magnitude     0\n",
      "HpHp_L0.1_radius        0\n",
      "HpHp_L0.1_covariance    0\n",
      "HpHp_L0.1_pcc           0\n",
      "Device_Name             0\n",
      "Attack                  0\n",
      "Attack_subType          0\n",
      "label                   0\n",
      "dtype: int64\n",
      "\n",
      "\n"
     ]
    }
   ],
   "source": [
    "# Check for null values and missing data\n",
    "print('-'*10, 'MISSING VALUES', '-'*10)\n",
    "print(botnet_df_v2.isnull().sum())\n",
    "print('\\n')"
   ]
  },
  {
   "cell_type": "code",
   "execution_count": 19,
   "metadata": {},
   "outputs": [
    {
     "name": "stdout",
     "output_type": "stream",
     "text": [
      "---------- DUPLICATES ----------\n",
      "621659\n",
      "\n",
      "\n"
     ]
    }
   ],
   "source": [
    "# Check for duplicates\n",
    "print('-'*10, 'DUPLICATES', '-'*10)\n",
    "print(botnet_df_v2.duplicated().sum())\n",
    "print('\\n')"
   ]
  },
  {
   "cell_type": "code",
   "execution_count": 20,
   "metadata": {},
   "outputs": [
    {
     "name": "stdout",
     "output_type": "stream",
     "text": [
      "---------- UNIQUE VALUES ----------\n",
      "MI_dir_L0.1_weight      2276268\n",
      "MI_dir_L0.1_mean        2265915\n",
      "MI_dir_L0.1_variance    2266031\n",
      "H_L0.1_weight           2276383\n",
      "H_L0.1_mean             2266034\n",
      "H_L0.1_variance         2266175\n",
      "HH_L0.1_weight          1530792\n",
      "HH_L0.1_mean            1368526\n",
      "HH_L0.1_std             1392808\n",
      "HH_L0.1_magnitude       1369829\n",
      "HH_L0.1_radius          1383985\n",
      "HH_L0.1_covariance       454133\n",
      "HH_L0.1_pcc              431687\n",
      "HH_jit_L0.1_weight      1530792\n",
      "HH_jit_L0.1_mean        1997489\n",
      "HH_jit_L0.1_variance    1507219\n",
      "HpHp_L0.1_weight         666797\n",
      "HpHp_L0.1_mean           223133\n",
      "HpHp_L0.1_std            256578\n",
      "HpHp_L0.1_magnitude      264999\n",
      "HpHp_L0.1_radius         273714\n",
      "HpHp_L0.1_covariance     215749\n",
      "HpHp_L0.1_pcc            194141\n",
      "Device_Name                   9\n",
      "Attack                        3\n",
      "Attack_subType                9\n",
      "label                         2\n",
      "dtype: int64\n",
      "\n",
      "\n"
     ]
    }
   ],
   "source": [
    "# Check for unique values\n",
    "print('-'*10, 'UNIQUE VALUES', '-'*10)\n",
    "print(botnet_df_v2.nunique())\n",
    "print('\\n')"
   ]
  },
  {
   "cell_type": "code",
   "execution_count": 21,
   "metadata": {},
   "outputs": [
    {
     "name": "stdout",
     "output_type": "stream",
     "text": [
      "---------- DATA TYPES ----------\n",
      "MI_dir_L0.1_weight      float64\n",
      "MI_dir_L0.1_mean        float64\n",
      "MI_dir_L0.1_variance    float64\n",
      "H_L0.1_weight           float64\n",
      "H_L0.1_mean             float64\n",
      "H_L0.1_variance         float64\n",
      "HH_L0.1_weight          float64\n",
      "HH_L0.1_mean            float64\n",
      "HH_L0.1_std             float64\n",
      "HH_L0.1_magnitude       float64\n",
      "HH_L0.1_radius          float64\n",
      "HH_L0.1_covariance      float64\n",
      "HH_L0.1_pcc             float64\n",
      "HH_jit_L0.1_weight      float64\n",
      "HH_jit_L0.1_mean        float64\n",
      "HH_jit_L0.1_variance    float64\n",
      "HpHp_L0.1_weight        float64\n",
      "HpHp_L0.1_mean          float64\n",
      "HpHp_L0.1_std           float64\n",
      "HpHp_L0.1_magnitude     float64\n",
      "HpHp_L0.1_radius        float64\n",
      "HpHp_L0.1_covariance    float64\n",
      "HpHp_L0.1_pcc           float64\n",
      "Device_Name              object\n",
      "Attack                   object\n",
      "Attack_subType           object\n",
      "label                     int64\n",
      "dtype: object\n",
      "\n",
      "\n"
     ]
    }
   ],
   "source": [
    "# Check data types\n",
    "print('-'*10, 'DATA TYPES', '-'*10)\n",
    "print(botnet_df_v2.dtypes)\n",
    "print('\\n')"
   ]
  },
  {
   "cell_type": "markdown",
   "metadata": {},
   "source": [
    "## Before proceeding to the correlation analysis, we need to convert the categorical features to numerical for better processing"
   ]
  }
 ],
 "metadata": {
  "kernelspec": {
   "display_name": "Python 3",
   "language": "python",
   "name": "python3"
  },
  "language_info": {
   "codemirror_mode": {
    "name": "ipython",
    "version": 3
   },
   "file_extension": ".py",
   "mimetype": "text/x-python",
   "name": "python",
   "nbconvert_exporter": "python",
   "pygments_lexer": "ipython3",
   "version": "3.12.5"
  }
 },
 "nbformat": 4,
 "nbformat_minor": 2
}
