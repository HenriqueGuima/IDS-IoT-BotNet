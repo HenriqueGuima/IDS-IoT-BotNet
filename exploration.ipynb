{
 "cells": [
  {
   "cell_type": "markdown",
   "metadata": {},
   "source": [
    "# Load Dataset"
   ]
  },
  {
   "cell_type": "code",
   "execution_count": 1,
   "metadata": {},
   "outputs": [],
   "source": [
    "# imports\n",
    "import pandas as pd\n",
    "import numpy as np\n",
    "import matplotlib.pyplot as plt\n",
    "import seaborn as sns\n",
    "from sklearn import preprocessing\n",
    "from sklearn.model_selection import train_test_split\n"
   ]
  },
  {
   "cell_type": "code",
   "execution_count": 2,
   "metadata": {},
   "outputs": [],
   "source": [
    "# Load datasets\n",
    "botnet_df_v2 = pd.read_csv('BoTNeTIoT-L01-v2.csv')\n",
    "botnet_df_no_duplicates = pd.read_csv('BotNeTIoT-L01_label_NoDuplicates.csv')"
   ]
  },
  {
   "cell_type": "code",
   "execution_count": 5,
   "metadata": {},
   "outputs": [
    {
     "name": "stdout",
     "output_type": "stream",
     "text": [
      "botnet_df_v2 features:\n",
      "Index(['MI_dir_L0.1_weight', 'MI_dir_L0.1_mean', 'MI_dir_L0.1_variance',\n",
      "       'H_L0.1_weight', 'H_L0.1_mean', 'H_L0.1_variance', 'HH_L0.1_weight',\n",
      "       'HH_L0.1_mean', 'HH_L0.1_std', 'HH_L0.1_magnitude', 'HH_L0.1_radius',\n",
      "       'HH_L0.1_covariance', 'HH_L0.1_pcc', 'HH_jit_L0.1_weight',\n",
      "       'HH_jit_L0.1_mean', 'HH_jit_L0.1_variance', 'HpHp_L0.1_weight',\n",
      "       'HpHp_L0.1_mean', 'HpHp_L0.1_std', 'HpHp_L0.1_magnitude',\n",
      "       'HpHp_L0.1_radius', 'HpHp_L0.1_covariance', 'HpHp_L0.1_pcc',\n",
      "       'Device_Name', 'Attack', 'Attack_subType', 'label'],\n",
      "      dtype='object')\n",
      "\n",
      "\n",
      "**************************************************\n"
     ]
    }
   ],
   "source": [
    "# Sample data to only an amount of 1000 rows\n",
    "sample_botnet_df_v2 = botnet_df_v2.sample(n=1000, random_state=1)\n",
    "sample_botnet_df_no_duplicates = botnet_df_no_duplicates.sample(n=1000, random_state=1)\n",
    "\n",
    "# Save the sampled data\n",
    "sample_botnet_df_v2.to_csv('sample_botnet_df_v2.csv', index=False)\n",
    "sample_botnet_df_no_duplicates.to_csv('sample_botnet_df_no_duplicates.csv', index=False)\n",
    "\n",
    "# botnet_df_v2 features\n",
    "print('botnet_df_v2 features:')\n",
    "print(sample_botnet_df_v2.columns)\n",
    "print('\\n')\n",
    "print('*'*50)"
   ]
  },
  {
   "cell_type": "code",
   "execution_count": 6,
   "metadata": {},
   "outputs": [
    {
     "name": "stdout",
     "output_type": "stream",
     "text": [
      "---------- HEAD ----------\n",
      "         MI_dir_L0.1_weight  MI_dir_L0.1_mean  MI_dir_L0.1_variance  \\\n",
      "5193259         6412.533913        438.400005          48269.772437   \n",
      "3927186            1.000000         60.000000              0.000000   \n",
      "2620008         6086.053458         69.344549             43.568915   \n",
      "6952954            5.455274        288.458823          32981.400870   \n",
      "5430966         7680.011326         70.946996             34.217549   \n",
      "\n",
      "         H_L0.1_weight  H_L0.1_mean  H_L0.1_variance  HH_L0.1_weight  \\\n",
      "5193259    6412.533913   438.400005     48269.772437     4796.285520   \n",
      "3927186       1.000000    60.000000         0.000000        1.000000   \n",
      "2620008    6086.053458    69.344549        43.568915     4059.361398   \n",
      "6952954       5.455274   288.458823     32981.400870        1.015808   \n",
      "5430966    7680.011326    70.946996        34.217549     5951.725926   \n",
      "\n",
      "         HH_L0.1_mean  HH_L0.1_std  HH_L0.1_magnitude  ...  HpHp_L0.1_mean  \\\n",
      "5193259    565.873179     8.009717         565.873179  ...           566.0   \n",
      "3927186     60.000000     0.000000          60.000000  ...            60.0   \n",
      "2620008     73.999645     0.070534          73.999645  ...            74.0   \n",
      "6952954     60.000000     0.000000          84.852814  ...            60.0   \n",
      "5430966     73.997016     0.204366          73.997016  ...            74.0   \n",
      "\n",
      "         HpHp_L0.1_std  HpHp_L0.1_magnitude  HpHp_L0.1_radius  \\\n",
      "5193259            0.0           566.000000      0.000000e+00   \n",
      "3927186            0.0            60.000000      0.000000e+00   \n",
      "2620008            0.0            74.000000      0.000000e+00   \n",
      "6952954            0.0            84.852814      4.550000e-13   \n",
      "5430966            0.0            74.000000      0.000000e+00   \n",
      "\n",
      "         HpHp_L0.1_covariance  HpHp_L0.1_pcc  \\\n",
      "5193259          0.000000e+00            0.0   \n",
      "3927186          0.000000e+00            0.0   \n",
      "2620008          0.000000e+00            0.0   \n",
      "6952954         -2.580000e-36            0.0   \n",
      "5430966          0.000000e+00            0.0   \n",
      "\n",
      "                                      Device_Name  Attack  Attack_subType  \\\n",
      "5193259  SimpleHome_XCS7_1002_WHT_Security_Camera   mirai             ack   \n",
      "3927186          Provision_PT_838_Security_Camera  gafgyt             tcp   \n",
      "2620008              Philips_B120N10_Baby_Monitor   mirai             syn   \n",
      "6952954                 Samsung_SNH_1011_N_Webcam  Normal          Normal   \n",
      "5430966  SimpleHome_XCS7_1002_WHT_Security_Camera   mirai             syn   \n",
      "\n",
      "         label  \n",
      "5193259      0  \n",
      "3927186      0  \n",
      "2620008      0  \n",
      "6952954      1  \n",
      "5430966      0  \n",
      "\n",
      "[5 rows x 27 columns]\n",
      "\n",
      "\n"
     ]
    }
   ],
   "source": [
    "print('-'*10, 'HEAD', '-'*10)\n",
    "print(sample_botnet_df_v2.head())\n",
    "print('\\n')"
   ]
  },
  {
   "cell_type": "code",
   "execution_count": 7,
   "metadata": {},
   "outputs": [
    {
     "name": "stdout",
     "output_type": "stream",
     "text": [
      "---------- DESCRIBE ----------\n",
      "       MI_dir_L0.1_weight  MI_dir_L0.1_mean  MI_dir_L0.1_variance  \\\n",
      "count         1000.000000       1000.000000           1000.000000   \n",
      "mean          3403.377800        176.600370          19230.777108   \n",
      "std           2882.209441        151.815803          26036.151182   \n",
      "min              1.000000         60.000000              0.000000   \n",
      "25%              1.000000         60.000000              0.000000   \n",
      "50%           3715.019481         74.104370             49.682294   \n",
      "75%           6352.035071        344.240510          49855.542664   \n",
      "max           8881.818074        445.399305         107005.417900   \n",
      "\n",
      "       H_L0.1_weight  H_L0.1_mean  H_L0.1_variance  HH_L0.1_weight  \\\n",
      "count    1000.000000  1000.000000      1000.000000     1000.000000   \n",
      "mean     3403.377800   176.600370     19230.777108     1833.363209   \n",
      "std      2882.209441   151.815803     26036.151182     2506.832212   \n",
      "min         1.000000    60.000000         0.000000        1.000000   \n",
      "25%         1.000000    60.000000         0.000000        1.000000   \n",
      "50%      3715.019481    74.104370        49.682294        1.000000   \n",
      "75%      6352.035071   344.240510     49855.542664     4163.324124   \n",
      "max      8881.818074   445.399305    107005.417900     7944.986856   \n",
      "\n",
      "       HH_L0.1_mean  HH_L0.1_std  HH_L0.1_magnitude  ...  HH_jit_L0.1_mean  \\\n",
      "count   1000.000000  1000.000000        1000.000000  ...      1.000000e+03   \n",
      "mean     171.934656     4.519783         177.813994  ...      7.746754e+08   \n",
      "std      201.389689    22.442659         200.389549  ...      7.458846e+08   \n",
      "min       60.000000     0.000000          60.000000  ...      2.922878e-03   \n",
      "25%       60.000000     0.000000          60.000000  ...      7.133827e+01   \n",
      "50%       60.000000     0.000000          73.979781  ...      1.505913e+09   \n",
      "75%       75.271957     2.328368         116.571145  ...      1.505914e+09   \n",
      "max      565.995464   271.124232         565.995464  ...      1.507660e+09   \n",
      "\n",
      "       HH_jit_L0.1_variance  HpHp_L0.1_weight  HpHp_L0.1_mean  HpHp_L0.1_std  \\\n",
      "count          1.000000e+03       1000.000000     1000.000000    1000.000000   \n",
      "mean           1.130996e+16        134.333043      172.194060       2.543449   \n",
      "std            7.481382e+16        634.182444      201.540758      23.082426   \n",
      "min            0.000000e+00          1.000000       60.000000       0.000000   \n",
      "25%            0.000000e+00          1.000000       60.000000       0.000000   \n",
      "50%            0.000000e+00          1.000000       60.000000       0.000000   \n",
      "75%            5.206914e+10          1.000000       74.000000       0.000000   \n",
      "max            5.609036e+17       4049.394089      566.000000     306.471683   \n",
      "\n",
      "       HpHp_L0.1_magnitude  HpHp_L0.1_radius  HpHp_L0.1_covariance  \\\n",
      "count          1000.000000       1000.000000           1000.000000   \n",
      "mean            175.821214        638.962136             69.143300   \n",
      "std             201.034804       7335.918995           1729.483258   \n",
      "min              60.000000          0.000000         -20956.345470   \n",
      "25%              60.000000          0.000000              0.000000   \n",
      "50%              74.000000          0.000000              0.000000   \n",
      "75%             118.132363          0.000000              0.000000   \n",
      "max             566.000000     103201.687800          42956.290870   \n",
      "\n",
      "       HpHp_L0.1_pcc        label  \n",
      "count    1000.000000  1000.000000  \n",
      "mean        0.000895     0.074000  \n",
      "std         0.039998     0.261902  \n",
      "min        -0.546530     0.000000  \n",
      "25%         0.000000     0.000000  \n",
      "50%         0.000000     0.000000  \n",
      "75%         0.000000     0.000000  \n",
      "max         0.593980     1.000000  \n",
      "\n",
      "[8 rows x 24 columns]\n",
      "\n",
      "\n"
     ]
    }
   ],
   "source": [
    "print('-'*10, 'DESCRIBE', '-'*10)\n",
    "print(sample_botnet_df_v2.describe())\n",
    "print('\\n')"
   ]
  },
  {
   "cell_type": "code",
   "execution_count": 8,
   "metadata": {},
   "outputs": [
    {
     "name": "stdout",
     "output_type": "stream",
     "text": [
      "---------- INFO ----------\n",
      "<class 'pandas.core.frame.DataFrame'>\n",
      "Index: 1000 entries, 5193259 to 5483726\n",
      "Data columns (total 27 columns):\n",
      " #   Column                Non-Null Count  Dtype  \n",
      "---  ------                --------------  -----  \n",
      " 0   MI_dir_L0.1_weight    1000 non-null   float64\n",
      " 1   MI_dir_L0.1_mean      1000 non-null   float64\n",
      " 2   MI_dir_L0.1_variance  1000 non-null   float64\n",
      " 3   H_L0.1_weight         1000 non-null   float64\n",
      " 4   H_L0.1_mean           1000 non-null   float64\n",
      " 5   H_L0.1_variance       1000 non-null   float64\n",
      " 6   HH_L0.1_weight        1000 non-null   float64\n",
      " 7   HH_L0.1_mean          1000 non-null   float64\n",
      " 8   HH_L0.1_std           1000 non-null   float64\n",
      " 9   HH_L0.1_magnitude     1000 non-null   float64\n",
      " 10  HH_L0.1_radius        1000 non-null   float64\n",
      " 11  HH_L0.1_covariance    1000 non-null   float64\n",
      " 12  HH_L0.1_pcc           1000 non-null   float64\n",
      " 13  HH_jit_L0.1_weight    1000 non-null   float64\n",
      " 14  HH_jit_L0.1_mean      1000 non-null   float64\n",
      " 15  HH_jit_L0.1_variance  1000 non-null   float64\n",
      " 16  HpHp_L0.1_weight      1000 non-null   float64\n",
      " 17  HpHp_L0.1_mean        1000 non-null   float64\n",
      " 18  HpHp_L0.1_std         1000 non-null   float64\n",
      " 19  HpHp_L0.1_magnitude   1000 non-null   float64\n",
      " 20  HpHp_L0.1_radius      1000 non-null   float64\n",
      " 21  HpHp_L0.1_covariance  1000 non-null   float64\n",
      " 22  HpHp_L0.1_pcc         1000 non-null   float64\n",
      " 23  Device_Name           1000 non-null   object \n",
      " 24  Attack                1000 non-null   object \n",
      " 25  Attack_subType        1000 non-null   object \n",
      " 26  label                 1000 non-null   int64  \n",
      "dtypes: float64(23), int64(1), object(3)\n",
      "memory usage: 218.8+ KB\n",
      "None\n",
      "\n",
      "\n"
     ]
    }
   ],
   "source": [
    "print('-'*10, 'INFO', '-'*10)\n",
    "print(sample_botnet_df_v2.info())\n",
    "print('\\n')"
   ]
  },
  {
   "cell_type": "markdown",
   "metadata": {},
   "source": [
    "## Check for null values and duplicates."
   ]
  },
  {
   "cell_type": "code",
   "execution_count": 11,
   "metadata": {},
   "outputs": [
    {
     "name": "stdout",
     "output_type": "stream",
     "text": [
      "---------- MISSING VALUES ----------\n",
      "MI_dir_L0.1_weight      0\n",
      "MI_dir_L0.1_mean        0\n",
      "MI_dir_L0.1_variance    0\n",
      "H_L0.1_weight           0\n",
      "H_L0.1_mean             0\n",
      "H_L0.1_variance         0\n",
      "HH_L0.1_weight          0\n",
      "HH_L0.1_mean            0\n",
      "HH_L0.1_std             0\n",
      "HH_L0.1_magnitude       0\n",
      "HH_L0.1_radius          0\n",
      "HH_L0.1_covariance      0\n",
      "HH_L0.1_pcc             0\n",
      "HH_jit_L0.1_weight      0\n",
      "HH_jit_L0.1_mean        0\n",
      "HH_jit_L0.1_variance    0\n",
      "HpHp_L0.1_weight        0\n",
      "HpHp_L0.1_mean          0\n",
      "HpHp_L0.1_std           0\n",
      "HpHp_L0.1_magnitude     0\n",
      "HpHp_L0.1_radius        0\n",
      "HpHp_L0.1_covariance    0\n",
      "HpHp_L0.1_pcc           0\n",
      "Device_Name             0\n",
      "Attack                  0\n",
      "Attack_subType          0\n",
      "label                   0\n",
      "dtype: int64\n",
      "\n",
      "\n"
     ]
    }
   ],
   "source": [
    "# Check for null values and missing data\n",
    "print('-'*10, 'MISSING VALUES', '-'*10)\n",
    "print(sample_botnet_df_v2.isnull().sum())\n",
    "print('\\n')"
   ]
  },
  {
   "cell_type": "code",
   "execution_count": 12,
   "metadata": {},
   "outputs": [
    {
     "name": "stdout",
     "output_type": "stream",
     "text": [
      "---------- DUPLICATES ----------\n",
      "0\n",
      "\n",
      "\n"
     ]
    }
   ],
   "source": [
    "# Check for duplicates\n",
    "print('-'*10, 'DUPLICATES', '-'*10)\n",
    "print(sample_botnet_df_v2.duplicated().sum())\n",
    "print('\\n')"
   ]
  },
  {
   "cell_type": "code",
   "execution_count": 13,
   "metadata": {},
   "outputs": [
    {
     "name": "stdout",
     "output_type": "stream",
     "text": [
      "---------- UNIQUE VALUES ----------\n",
      "MI_dir_L0.1_weight      747\n",
      "MI_dir_L0.1_mean        747\n",
      "MI_dir_L0.1_variance    747\n",
      "H_L0.1_weight           747\n",
      "H_L0.1_mean             747\n",
      "H_L0.1_variance         747\n",
      "HH_L0.1_weight          495\n",
      "HH_L0.1_mean            457\n",
      "HH_L0.1_std             462\n",
      "HH_L0.1_magnitude       458\n",
      "HH_L0.1_radius          463\n",
      "HH_L0.1_covariance      169\n",
      "HH_L0.1_pcc             161\n",
      "HH_jit_L0.1_weight      495\n",
      "HH_jit_L0.1_mean        999\n",
      "HH_jit_L0.1_variance    495\n",
      "HpHp_L0.1_weight        181\n",
      "HpHp_L0.1_mean           51\n",
      "HpHp_L0.1_std            72\n",
      "HpHp_L0.1_magnitude      58\n",
      "HpHp_L0.1_radius         81\n",
      "HpHp_L0.1_covariance     57\n",
      "HpHp_L0.1_pcc            45\n",
      "Device_Name               9\n",
      "Attack                    3\n",
      "Attack_subType            9\n",
      "label                     2\n",
      "dtype: int64\n",
      "\n",
      "\n"
     ]
    }
   ],
   "source": [
    "# Check for unique values\n",
    "print('-'*10, 'UNIQUE VALUES', '-'*10)\n",
    "print(sample_botnet_df_v2.nunique())\n",
    "print('\\n')"
   ]
  },
  {
   "cell_type": "code",
   "execution_count": 15,
   "metadata": {},
   "outputs": [
    {
     "name": "stdout",
     "output_type": "stream",
     "text": [
      "---------- DATA TYPES ----------\n",
      "MI_dir_L0.1_weight      float64\n",
      "MI_dir_L0.1_mean        float64\n",
      "MI_dir_L0.1_variance    float64\n",
      "H_L0.1_weight           float64\n",
      "H_L0.1_mean             float64\n",
      "H_L0.1_variance         float64\n",
      "HH_L0.1_weight          float64\n",
      "HH_L0.1_mean            float64\n",
      "HH_L0.1_std             float64\n",
      "HH_L0.1_magnitude       float64\n",
      "HH_L0.1_radius          float64\n",
      "HH_L0.1_covariance      float64\n",
      "HH_L0.1_pcc             float64\n",
      "HH_jit_L0.1_weight      float64\n",
      "HH_jit_L0.1_mean        float64\n",
      "HH_jit_L0.1_variance    float64\n",
      "HpHp_L0.1_weight        float64\n",
      "HpHp_L0.1_mean          float64\n",
      "HpHp_L0.1_std           float64\n",
      "HpHp_L0.1_magnitude     float64\n",
      "HpHp_L0.1_radius        float64\n",
      "HpHp_L0.1_covariance    float64\n",
      "HpHp_L0.1_pcc           float64\n",
      "Device_Name              object\n",
      "Attack                   object\n",
      "Attack_subType           object\n",
      "label                     int64\n",
      "dtype: object\n",
      "\n",
      "\n"
     ]
    }
   ],
   "source": [
    "# Check data types\n",
    "print('-'*10, 'DATA TYPES', '-'*10)\n",
    "print(sample_botnet_df_v2.dtypes)\n",
    "print('\\n')"
   ]
  },
  {
   "cell_type": "markdown",
   "metadata": {},
   "source": [
    "## Before proceeding to the correlation analysis, we need to convert the categorical features to numerical for better processing"
   ]
  }
 ],
 "metadata": {
  "kernelspec": {
   "display_name": "Python 3",
   "language": "python",
   "name": "python3"
  },
  "language_info": {
   "codemirror_mode": {
    "name": "ipython",
    "version": 3
   },
   "file_extension": ".py",
   "mimetype": "text/x-python",
   "name": "python",
   "nbconvert_exporter": "python",
   "pygments_lexer": "ipython3",
   "version": "3.12.5"
  }
 },
 "nbformat": 4,
 "nbformat_minor": 2
}
